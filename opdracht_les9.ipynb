{
 "cells": [
  {
   "cell_type": "markdown",
   "id": "feafa761-a715-47e8-8a11-45cb36f439f8",
   "metadata": {},
   "source": [
    "---\n",
    "## **Opdracht: Analyseren van CO2-uitstoot per Land**\n",
    "\n",
    "**Context**: In deze opdracht ga je een dataset over **CO2-uitstoot per land per jaar** analyseren. Je zult leren hoe je gegevens kunt laden, verkennen, analyseren en visualiseren met behulp van de Python-bibliotheken **pandas**, **NumPy** en **Matplotlib**."
   ]
  },
  {
   "cell_type": "markdown",
   "id": "27958291-862f-4780-9ee4-6039afc4ef81",
   "metadata": {},
   "source": [
    "---\n",
    "\n",
    "### **Opdrachtbeschrijving:**\n",
    "\n",
    "Je werkt met een dataset genaamd `CO2_emissions.csv`, die informatie bevat over de jaarlijkse **CO2-uitstoot per land**. Door deze gegevens te analyseren, kun je belangrijke trends ontdekken, zoals de landen die het meeste CO2 uitstoten en hoe uitstoot is veranderd door de jaren heen.\n",
    "\n",
    "Je gaat aan de slag met enkele belangrijke analyse- en visualisatieconcepten en volgt de stappen om tot inzichten te komen. De opdracht duurt ongeveer 45 minuten en introduceert je de principes van data-analyse en visualisatie.\n",
    "\n",
    "---"
   ]
  },
  {
   "cell_type": "markdown",
   "id": "236f1502-a4ff-4ef3-a9f3-5a6de1b97bb5",
   "metadata": {},
   "source": [
    "### **Doelen van de Opdracht:**\n",
    "\n",
    "1. **Analyseren** van de CO2-uitstootgegevens met behulp van **NumPy** en **pandas**.\n",
    "2. **Visualiseren** van de belangrijkste bevindingen met behulp van **Matplotlib**.\n",
    "3. **Inzicht krijgen** in de wereldwijde CO2-uitstoot en verschillen tussen landen ontdekken.\n",
    "\n",
    "---"
   ]
  },
  {
   "cell_type": "markdown",
   "id": "7558686d-59d2-41bf-b0bd-dc1d878e4de3",
   "metadata": {},
   "source": [
    "### **Dataset:**\n",
    "- **Bestandsnaam**: `CO2_emissions.csv`\n",
    "- **Kolommen** in de dataset:\n",
    "  - **Land**: De naam van het land.\n",
    "  - **Jaar**: Het jaar waarop de CO2-uitstoot gemeten werd.\n",
    "  - **CO2-uitstoot (tonnen)**: De hoeveelheid CO2-uitstoot per land in tonnen.\n",
    "\n",
    "---"
   ]
  },
  {
   "cell_type": "markdown",
   "id": "21d99eaf-3ebb-412c-a058-ad07ce07bc64",
   "metadata": {},
   "source": [
    "### **Stapsgewijze Instructies:**\n",
    "\n",
    "#### **Stap 1: Laad en Verken de Dataset**\n",
    "\n",
    "1. Importeer de benodigde bibliotheken: **pandas**, **NumPy** en **Matplotlib**.\n",
    "2. Laad de dataset `CO2_emissions.csv` in met behulp van **pandas**.\n",
    "3. Bekijk de eerste paar rijen van de dataset om de structuur van de gegevens te begrijpen."
   ]
  },
  {
   "cell_type": "code",
   "execution_count": 3,
   "id": "a329e1b4-e11d-40bf-935a-e73c19e6d81c",
   "metadata": {},
   "outputs": [],
   "source": [
    "# Schrijf hier je code:\n",
    "# 1 Importeer de benodigde libraries, pandas, numpy en matplotlib\n",
    "\n",
    "# 2 Laad de csv dataset in een pandas DataFrame\n",
    "\n",
    "# 3 Bekijk de eerste paar rijen van de dataset"
   ]
  },
  {
   "cell_type": "markdown",
   "id": "4121c362-eee1-4261-8e5a-cbf585ffb303",
   "metadata": {},
   "source": [
    "\n",
    "---\n",
    "\n",
    "#### **Stap 2: Analyseer de Gegevens**\n",
    "\n",
    "Beantwoord de volgende vragen door de gegevens te manipuleren met **pandas** en **NumPy**.\n",
    "\n",
    "1. **Toon de top 5 landen met de hoogste CO2-uitstoot in het jaar 2018**.\n",
    "   - Gebruik de functie `nlargest()` om de 5 grootste uitstoters te vinden.\n",
    "   - Bereken welk percentage deze landen samen bijdragen aan de totale wereldwijde uitstoot.\n"
   ]
  },
  {
   "cell_type": "code",
   "execution_count": 2,
   "id": "ea1c4400-1a72-44ae-9195-4ce431758c79",
   "metadata": {},
   "outputs": [],
   "source": [
    "# Schrijf hier je code\n",
    "# 1 Filter de gegevens voor het jaar 2018\n",
    "\n",
    "# 2 Vind de top 5 landen met de hoogste uitstoot in 2018 (.nlargest())\n",
    "\n",
    "# 2 Bereken het totale percentage dat deze landen bijdragen (top5_uitstoot_2018 / totaal_uitstoot_2018 * 100)\n"
   ]
  },
  {
   "cell_type": "markdown",
   "id": "a84e33ab-1f8c-4192-a3ae-a26c83939dcc",
   "metadata": {},
   "source": [
    "2. **Welke landen hebben de grootste procentuele afname in CO2-uitstoot laten zien van 2000 naar 2018?**\n",
    "   - Bereken de procentuele krimp voor elk land en toon de top 5 landen met de grootste afname."
   ]
  },
  {
   "cell_type": "code",
   "execution_count": 3,
   "id": "095aad26-a32f-426b-8b44-8393047791a0",
   "metadata": {},
   "outputs": [
    {
     "ename": "SyntaxError",
     "evalue": "invalid syntax (2725748863.py, line 3)",
     "output_type": "error",
     "traceback": [
      "\u001b[1;36m  Cell \u001b[1;32mIn[3], line 3\u001b[1;36m\u001b[0m\n\u001b[1;33m    df_2000 = #????\u001b[0m\n\u001b[1;37m              ^\u001b[0m\n\u001b[1;31mSyntaxError\u001b[0m\u001b[1;31m:\u001b[0m invalid syntax\n"
     ]
    }
   ],
   "source": [
    "# Schrijf hier je code \n",
    "# 1 Filter gegevens voor 2000 en 2018\n",
    "df_2000 = #????\n",
    "df_2018 = #????\n",
    "\n",
    "# 2 Bereken de procentuele afname in CO2-uitstoot per land (((uitstoot_2018 - uitstoot_2000) / uitstoot_2000) * 100)\n",
    "df_2000 = df_2000.set_index('Land')  # Rijen indexeren op 'Land'\n",
    "df_2018 = df_2018.set_index('Land')  # Rijen indexeren op 'Land'\n",
    "procentueel = #????\n",
    "top5_afname = #????\n",
    "top5_afname"
   ]
  },
  {
   "cell_type": "markdown",
   "id": "eeafd964-be79-49ab-9b6e-76db6b6e306c",
   "metadata": {},
   "source": [
    "\n",
    "3. **Welke landen hebben hun CO2-uitstoot sinds 2000 zien groeien?**\n",
    "   - Vergelijk de uitstoot in het jaar 2000 met die in 2018 en toon de landen waar de uitstoot is gestegen."
   ]
  },
  {
   "cell_type": "code",
   "execution_count": 4,
   "id": "e1e22e4b-c661-4588-913a-e29deb8bfbc5",
   "metadata": {},
   "outputs": [],
   "source": [
    "# Schrijf hier je code\n",
    "# Filter gegevens voor 2000\n",
    "\n",
    "# Vind de landen waarvan hun uitstoot is gegroeid tussen 2000 en 2018\n"
   ]
  },
  {
   "cell_type": "markdown",
   "id": "5976d2c0-df3a-4299-b84e-6f8551c542d8",
   "metadata": {},
   "source": [
    "#### **Stap 3: Visualiseer de Bevindingen**\n",
    "\n",
    "Maak de volgende visualisaties om inzicht te krijgen in de belangrijkste bevindingen.\n",
    "\n",
    "1. **Staafdiagram** van de top 10 landen met de hoogste CO2-uitstoot in 2018."
   ]
  },
  {
   "cell_type": "code",
   "execution_count": 8,
   "id": "17969c28-dc41-4310-9b18-bfa53d346e10",
   "metadata": {},
   "outputs": [],
   "source": [
    "# schrijf hier je code\n",
    "# Staafdiagram voor de top 10 uitstoters in 2018"
   ]
  },
  {
   "cell_type": "markdown",
   "id": "506189b0-72f0-42d3-a7cc-1ff1cdcdd8dc",
   "metadata": {},
   "source": [
    "2. **Scatter plot** van de procentuele toename in CO2-uitstoot tussen 2000 en 2018 voor alle landen."
   ]
  },
  {
   "cell_type": "code",
   "execution_count": 5,
   "id": "66da70b3-acca-470b-a127-3afbd09977f2",
   "metadata": {},
   "outputs": [],
   "source": [
    "# Schrijf hier je code\n",
    "# Scatter plot voor procentuele groei in uitstoot tussen 2000 en 2018"
   ]
  },
  {
   "cell_type": "markdown",
   "id": "0999a354-ae8e-4bde-a6ce-ddf92d67bc3b",
   "metadata": {},
   "source": [
    "3. **Lijnplot** van de evolutie van CO2-uitstoot door de jaren heen voor de top 3 uitstotende landen."
   ]
  },
  {
   "cell_type": "code",
   "execution_count": 11,
   "id": "236e5e9a-785d-4e41-b563-fab8e98f04c2",
   "metadata": {},
   "outputs": [],
   "source": [
    "# Selecteer de top 3 landen met de hoogste uitstoot in 2018\n",
    "\n",
    "# Filter de gegevens voor de top 3 landen en plot de uitstoot evolutie door de jaren heen\n"
   ]
  },
  {
   "cell_type": "markdown",
   "id": "545a282b-8290-4e40-8548-a57c5ffc143c",
   "metadata": {},
   "source": [
    "---\n",
    "\n",
    "#### **Stap 4: Reflectie**\n",
    "\n",
    "Na het voltooien van de opdracht, denk na over het volgende:\n",
    "1. Wat waren de grootste verrassingen in de gegevens?\n",
    "2. Welke data-analyse technieken vond je het nuttigst voor deze dataset?\n",
    "3. Hoe helpen visualisaties je om inzichten sneller te zien in de data?\n",
    "\n",
    "---"
   ]
  },
  {
   "cell_type": "code",
   "execution_count": null,
   "id": "9f1a9b92-49b5-4b7f-8517-8f11c5b431c2",
   "metadata": {},
   "outputs": [],
   "source": []
  }
 ],
 "metadata": {
  "kernelspec": {
   "display_name": "Python 3 (ipykernel)",
   "language": "python",
   "name": "python3"
  },
  "language_info": {
   "codemirror_mode": {
    "name": "ipython",
    "version": 3
   },
   "file_extension": ".py",
   "mimetype": "text/x-python",
   "name": "python",
   "nbconvert_exporter": "python",
   "pygments_lexer": "ipython3",
   "version": "3.12.6"
  }
 },
 "nbformat": 4,
 "nbformat_minor": 5
}
