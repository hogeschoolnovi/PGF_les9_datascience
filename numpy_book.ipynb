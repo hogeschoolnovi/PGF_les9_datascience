{
 "cells": [
  {
   "cell_type": "markdown",
   "id": "70e5090b-0f17-4283-8aa1-7fc6492de850",
   "metadata": {},
   "source": [
    "# Numpy\n",
    "\n",
    "Dit is een voorbeeld van numpy\n",
    "\n",
    "### Stap 1\n",
    "\n",
    "Als eerste importeren we numpy"
   ]
  },
  {
   "cell_type": "code",
   "execution_count": 2,
   "id": "dc292272-42ff-481a-a765-6c884540fc73",
   "metadata": {},
   "outputs": [],
   "source": [
    "\n",
    "import numpy as np\n",
    "\n"
   ]
  },
  {
   "cell_type": "markdown",
   "id": "ba95fb02-cdb2-41ad-8b58-3f18eccd10e4",
   "metadata": {},
   "source": [
    "## N dimensionele arrays\n",
    "2d array (matrix) \n",
    "\n",
    "3d array (tensor)"
   ]
  },
  {
   "cell_type": "code",
   "execution_count": 3,
   "id": "7b091d7a-42d1-4188-8b4d-af20a990763b",
   "metadata": {},
   "outputs": [],
   "source": [
    "arr_2d = np.array([[1, 2, 3], [4, 5, 6]])"
   ]
  },
  {
   "cell_type": "code",
   "execution_count": 4,
   "id": "cbdec70d-c83e-488c-bd46-279eef802601",
   "metadata": {},
   "outputs": [],
   "source": [
    "arr_3d = np.array([[[1, 2], [3, 4]], [[5, 6], [7, 8]]])"
   ]
  },
  {
   "cell_type": "markdown",
   "id": "a5b408d8-e3f5-405f-8099-fc2999cc2853",
   "metadata": {},
   "source": [
    "### Stap 2\n",
    "\n",
    "maak een (1d) array met de arange methode en \"reshape\" deze naar een 3 bij 5 array\n",
    "\n",
    ">Zie ook dat we in notebook printen zonder print() te hoeven gebruiken.\n",
    ">\n",
    ">Dat is alleen met de laatste waarde, als je tussendoor iets wilt printen, moet je wel print() gebruiken"
   ]
  },
  {
   "cell_type": "code",
   "execution_count": 5,
   "id": "9987c5be-63dc-4913-95fb-ace5fb426201",
   "metadata": {},
   "outputs": [
    {
     "data": {
      "text/plain": [
       "array([[ 0,  1,  2,  3,  4],\n",
       "       [ 5,  6,  7,  8,  9],\n",
       "       [10, 11, 12, 13, 14]])"
      ]
     },
     "execution_count": 5,
     "metadata": {},
     "output_type": "execute_result"
    }
   ],
   "source": [
    "\n",
    "# Create a 2-D array, set every second element in\n",
    "# some rows and find max per row:\n",
    "\n",
    "x = np.arange(15, dtype=np.int64).reshape(3, 5)\n",
    "x\n",
    "\n",
    "\n"
   ]
  },
  {
   "cell_type": "markdown",
   "id": "706c51b6-e3d0-4ee4-947d-c630d9fad1b4",
   "metadata": {},
   "source": [
    "### Stap 3\n",
    "\n",
    "Je ziet dat je hier heel makkelijk door ndarrays kunt slicen"
   ]
  },
  {
   "cell_type": "code",
   "execution_count": 6,
   "id": "6f5b6e82-367b-46d5-a0be-14cfa753413e",
   "metadata": {},
   "outputs": [
    {
     "data": {
      "text/plain": [
       "array([[  0,   1,   2,   3,   4],\n",
       "       [-99,   6, -99,   8, -99],\n",
       "       [-99,  11, -99,  13, -99]])"
      ]
     },
     "execution_count": 6,
     "metadata": {},
     "output_type": "execute_result"
    }
   ],
   "source": [
    "x[1:, ::2] = -99\n",
    "x"
   ]
  },
  {
   "cell_type": "markdown",
   "id": "d058dd35-205a-47a5-b48b-74526ad0cd31",
   "metadata": {},
   "source": [
    "### Stap 4\n",
    "met de max methode kun je de max waarde van elke rij in de ndarray berekenen"
   ]
  },
  {
   "cell_type": "code",
   "execution_count": 8,
   "id": "6249d50d-fe2a-43c3-92da-b6daf98da863",
   "metadata": {},
   "outputs": [
    {
     "data": {
      "text/plain": [
       "array([ 4,  8, 13])"
      ]
     },
     "execution_count": 8,
     "metadata": {},
     "output_type": "execute_result"
    }
   ],
   "source": [
    "x.max(axis=1)\n",
    "\n"
   ]
  },
  {
   "cell_type": "markdown",
   "id": "570e2382-a412-4682-87a8-138cf0fbf791",
   "metadata": {},
   "source": [
    "## Statistische bewerkingen\n",
    "\n",
    "numpy staat ook vol met statistische vewerkingen, zoals de normale distributie.\n",
    "\n",
    "Hier maken we eerst een generator, en daarmee een array van 2500 willekeurige getallen getrokken uit een normale verdeling."
   ]
  },
  {
   "cell_type": "code",
   "execution_count": 9,
   "id": "5ec41b3a-412e-4047-8a48-f7b2a86890cc",
   "metadata": {},
   "outputs": [
    {
     "data": {
      "text/plain": [
       "array([ 0.04965795, -0.53513435,  1.42315089, ...,  1.25490688,\n",
       "        0.69534924,  0.0942118 ])"
      ]
     },
     "execution_count": 9,
     "metadata": {},
     "output_type": "execute_result"
    }
   ],
   "source": [
    "# Generate normally distributed random numbers:\n",
    "rng = np.random.default_rng()\n",
    "samples = rng.normal(size=2500)\n",
    "samples"
   ]
  },
  {
   "cell_type": "markdown",
   "id": "b0db908d-4597-434a-835a-011685336b04",
   "metadata": {},
   "source": [
    "## gemiddelde\n",
    "We kunnen vervolgens ook  het rekenkunig gemiddelde hiervan berekenen"
   ]
  },
  {
   "cell_type": "code",
   "execution_count": 10,
   "id": "dd1bd79d-3e1c-4ca6-a98b-3b9c955bfb41",
   "metadata": {},
   "outputs": [
    {
     "data": {
      "text/plain": [
       "np.float64(0.02038885713968398)"
      ]
     },
     "execution_count": 10,
     "metadata": {},
     "output_type": "execute_result"
    }
   ],
   "source": [
    "samples.mean()"
   ]
  },
  {
   "cell_type": "markdown",
   "id": "24713cab-47f1-43c6-b386-2ed85268e971",
   "metadata": {},
   "source": [
    "## Optellen en vermenigvuldigen van elementen"
   ]
  },
  {
   "cell_type": "code",
   "execution_count": 11,
   "id": "daeef362-c3df-4e4b-91ef-0ecc8c4da91e",
   "metadata": {},
   "outputs": [
    {
     "data": {
      "text/plain": [
       "array([5, 7, 9])"
      ]
     },
     "execution_count": 11,
     "metadata": {},
     "output_type": "execute_result"
    }
   ],
   "source": [
    "a = np.array([1, 2, 3])\n",
    "b = np.array([4, 5, 6])\n",
    "c = a + b    \n",
    "c\n"
   ]
  },
  {
   "cell_type": "code",
   "execution_count": 12,
   "id": "d371c29e-2702-44c5-b7c8-9c93b1c7bacf",
   "metadata": {},
   "outputs": [
    {
     "data": {
      "text/plain": [
       "array([ 4, 10, 18])"
      ]
     },
     "execution_count": 12,
     "metadata": {},
     "output_type": "execute_result"
    }
   ],
   "source": [
    "d = a * b    \n",
    "d"
   ]
  },
  {
   "cell_type": "code",
   "execution_count": 14,
   "id": "5b4066c0-4e13-4d9f-a81b-f68a1f0e5f62",
   "metadata": {},
   "outputs": [
    {
     "data": {
      "text/plain": [
       "array([[1, 2, 3],\n",
       "       [2, 4, 6],\n",
       "       [3, 6, 9]])"
      ]
     },
     "execution_count": 14,
     "metadata": {},
     "output_type": "execute_result"
    }
   ],
   "source": [
    "a = np.array([1, 2, 3])\n",
    "b = np.array([[1], [2], [3]])  # Different shapes\n",
    "result = a * b\n",
    "result"
   ]
  },
  {
   "cell_type": "code",
   "execution_count": null,
   "id": "437e4ca4-00f5-45b4-ada0-7534a4c5ea2f",
   "metadata": {},
   "outputs": [],
   "source": []
  }
 ],
 "metadata": {
  "kernelspec": {
   "display_name": "Python 3 (ipykernel)",
   "language": "python",
   "name": "python3"
  },
  "language_info": {
   "codemirror_mode": {
    "name": "ipython",
    "version": 3
   },
   "file_extension": ".py",
   "mimetype": "text/x-python",
   "name": "python",
   "nbconvert_exporter": "python",
   "pygments_lexer": "ipython3",
   "version": "3.12.6"
  }
 },
 "nbformat": 4,
 "nbformat_minor": 5
}
